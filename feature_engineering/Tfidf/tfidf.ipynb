{
 "cells": [
  {
   "cell_type": "code",
   "execution_count": 1,
   "id": "35eacc49",
   "metadata": {},
   "outputs": [
    {
     "name": "stderr",
     "output_type": "stream",
     "text": [
      "[nltk_data] Downloading package stopwords to\n",
      "[nltk_data]     /Users/aditya/nltk_data...\n",
      "[nltk_data]   Package stopwords is already up-to-date!\n",
      "[nltk_data] Downloading package wordnet to /Users/aditya/nltk_data...\n",
      "[nltk_data]   Package wordnet is already up-to-date!\n",
      "[nltk_data] Downloading package punkt to /Users/aditya/nltk_data...\n",
      "[nltk_data]   Package punkt is already up-to-date!\n",
      "[nltk_data] Downloading package averaged_perceptron_tagger to\n",
      "[nltk_data]     /Users/aditya/nltk_data...\n",
      "[nltk_data]   Package averaged_perceptron_tagger is already up-to-\n",
      "[nltk_data]       date!\n"
     ]
    }
   ],
   "source": [
    "import sys,os\n",
    "sys.path.append( os.path.join(\"..\",\"..\",))\n",
    "from UtilityFunctions import CommonHelpers, PreprocessHelpers\n",
    "import numpy as np"
   ]
  },
  {
   "cell_type": "code",
   "execution_count": 2,
   "id": "24c65c43",
   "metadata": {},
   "outputs": [],
   "source": [
    "PREPROCESSED_STORE_LOC = os.path.join(\".\")"
   ]
  },
  {
   "cell_type": "code",
   "execution_count": 3,
   "id": "e420cd8b",
   "metadata": {},
   "outputs": [],
   "source": [
    "all_books = CommonHelpers.load_pickle(os.path.join(PREPROCESSED_STORE_LOC,\"books_1635_preprocessed.pickle\"))"
   ]
  },
  {
   "cell_type": "code",
   "execution_count": 4,
   "id": "7494f949",
   "metadata": {},
   "outputs": [
    {
     "data": {
      "text/plain": [
       "1600"
      ]
     },
     "execution_count": 4,
     "metadata": {},
     "output_type": "execute_result"
    }
   ],
   "source": [
    "len(all_books)"
   ]
  },
  {
   "cell_type": "code",
   "execution_count": null,
   "id": "44981abb",
   "metadata": {},
   "outputs": [],
   "source": [
    "book_names = CommonHelpers.load_pickle(os.path.join(PREPROCESSED_STORE_LOC,\"names_1635.pickle\"))"
   ]
  },
  {
   "cell_type": "code",
   "execution_count": null,
   "id": "ba76cda6",
   "metadata": {},
   "outputs": [],
   "source": [
    "len(book_names)"
   ]
  },
  {
   "cell_type": "code",
   "execution_count": null,
   "id": "2c8e344f",
   "metadata": {},
   "outputs": [],
   "source": [
    "combined_books = [' '.join(book) for book in all_books]"
   ]
  },
  {
   "cell_type": "code",
   "execution_count": null,
   "id": "00cdaee2",
   "metadata": {},
   "outputs": [],
   "source": [
    "from sklearn.feature_extraction.text import TfidfVectorizer\n",
    "tfidf = TfidfVectorizer(analyzer = 'word', token_pattern = r'\\w{1,}', ngram_range=(1, 2), stop_words='english')\n",
    "features = tfidf.fit_transform(combined_books).toarray()\n",
    "# labels = df.category_id\n",
    "features.shape"
   ]
  },
  {
   "cell_type": "code",
   "execution_count": null,
   "id": "c0c72fe7",
   "metadata": {},
   "outputs": [],
   "source": [
    "import pandas as pd\n",
    "catalog = pd.read_csv('pg_catalog.csv')"
   ]
  },
  {
   "cell_type": "code",
   "execution_count": null,
   "id": "ba4e7a10",
   "metadata": {},
   "outputs": [],
   "source": [
    "labels = catalog[:96]['LoCC'].str[:1].unique()"
   ]
  },
  {
   "cell_type": "code",
   "execution_count": null,
   "id": "4226e9a7",
   "metadata": {},
   "outputs": [],
   "source": [
    "from sklearn.feature_selection import chi2\n",
    "N = 5\n",
    "Number = 1\n",
    "for category in labels:\n",
    "    features_chi2 = chi2(features, catalog[:96]['LoCC'] == category)\n",
    "    indices = np.argsort(features_chi2[0])\n",
    "    feature_names = np.array(tfidf.get_f7eature_names())[indices]\n",
    "    unigrams = [v for v in feature_names if len(v.split(' ')) == 1]\n",
    "    bigrams = [v for v in feature_names if len(v.split(' ')) == 2]\n",
    "    print(\"{}. {} :\".format(Number,category))\n",
    "    print(\"\\t# Unigrams :\\n\\t. {}\".format('\\n\\t. '.join(unigrams[-N:])))\n",
    "    print(\"\\t# Bigrams :\\n\\t. {}\".format('\\n\\t. '.join(bigrams[-N:])))\n",
    "    Number += 1"
   ]
  }
 ],
 "metadata": {
  "kernelspec": {
   "display_name": "Python 3 (ipykernel)",
   "language": "python",
   "name": "python3"
  },
  "language_info": {
   "codemirror_mode": {
    "name": "ipython",
    "version": 3
   },
   "file_extension": ".py",
   "mimetype": "text/x-python",
   "name": "python",
   "nbconvert_exporter": "python",
   "pygments_lexer": "ipython3",
   "version": "3.9.7"
  }
 },
 "nbformat": 4,
 "nbformat_minor": 5
}
