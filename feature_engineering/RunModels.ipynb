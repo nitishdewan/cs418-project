{
 "cells": [
  {
   "cell_type": "code",
   "execution_count": 1,
   "source": [
    "from sklearn.ensemble import RandomForestClassifier,AdaBoostClassifier\n",
    "from sklearn.neighbors import KNeighborsClassifier\n",
    "from sklearn.neural_network import MLPClassifier\n",
    "from sklearn.svm import SVC\n",
    "from sklearn.tree import DecisionTreeClassifier\n",
    "from sklearn.gaussian_process import GaussianProcessClassifier\n",
    "from sklearn.gaussian_process.kernels import RBF\n",
    "from sklearn.naive_bayes import GaussianNB\n",
    "from sklearn.discriminant_analysis import QuadraticDiscriminantAnalysis\n",
    "import Generate_word2vec_features\n",
    "from sklearn.datasets import make_classification\n",
    "from sklearn.linear_model import LogisticRegression\n",
    "from sklearn.metrics import accuracy_score\n",
    "from sklearn.model_selection import train_test_split\n",
    "from sklearn import preprocessing\n",
    "from sklearn.multiclass import OneVsRestClassifier\n",
    "from sklearn.svm import SVC\n",
    "import pandas as pd\n",
    "import gensim\n",
    "import os\n",
    "import sys\n",
    "import RunModels\n",
    "sys.path.append( os.path.join(\"..\"))\n",
    "from UtilityFunctions import CommonHelpers,PreprocessHelpers,FeatureEngineering\n",
    "import numpy as np\n",
    "import pandas as pd\n",
    "import re"
   ],
   "outputs": [
    {
     "output_type": "stream",
     "name": "stderr",
     "text": [
      "[nltk_data] Downloading package stopwords to\n",
      "[nltk_data]     /Users/nitishdewan/nltk_data...\n",
      "[nltk_data]   Package stopwords is already up-to-date!\n",
      "[nltk_data] Downloading package wordnet to\n",
      "[nltk_data]     /Users/nitishdewan/nltk_data...\n",
      "[nltk_data]   Package wordnet is already up-to-date!\n",
      "[nltk_data] Downloading package punkt to\n",
      "[nltk_data]     /Users/nitishdewan/nltk_data...\n",
      "[nltk_data]   Package punkt is already up-to-date!\n",
      "[nltk_data] Downloading package averaged_perceptron_tagger to\n",
      "[nltk_data]     /Users/nitishdewan/nltk_data...\n",
      "[nltk_data]   Package averaged_perceptron_tagger is already up-to-\n",
      "[nltk_data]       date!\n"
     ]
    }
   ],
   "metadata": {}
  },
  {
   "cell_type": "code",
   "execution_count": 2,
   "source": [
    "# Constants\n",
    "book_pickle_path=\"../data/preprocessed/books_english.pickle\"\n",
    "name_pickle_path = \"../data/preprocessed/names_english.pickle\""
   ],
   "outputs": [],
   "metadata": {}
  },
  {
   "cell_type": "code",
   "execution_count": 3,
   "source": [
    "def get_number_id(file_name):\n",
    "    regex = r\"([a-z_A-Z]+)(\\d+)\"\n",
    "    match = re.search(regex, file_name)\n",
    "    if match!=None:\n",
    "        return match.group(2)"
   ],
   "outputs": [],
   "metadata": {}
  },
  {
   "cell_type": "code",
   "execution_count": 4,
   "source": [
    "list_of_words = CommonHelpers.load_pickle(book_pickle_path)\n",
    "book_names =  CommonHelpers.load_pickle(name_pickle_path)"
   ],
   "outputs": [],
   "metadata": {}
  },
  {
   "cell_type": "code",
   "execution_count": null,
   "source": [
    "list_of_words = CommonHelpers.load_pickle(book_pickle_path)"
   ],
   "outputs": [],
   "metadata": {}
  },
  {
   "cell_type": "code",
   "execution_count": 5,
   "source": [
    "df = pd.read_csv(\"../data/pg_catalog.csv\")\n",
    "df[\"category\"] = df[\"LoCC\"].str[:1]\n",
    "category_list_train = [int(get_number_id(each)) for each in book_names]\n",
    "selected_books = df[df[\"Text#\"].isin(category_list_train)]\n",
    "categories=[]\n",
    "titles=[]\n",
    "for each in category_list_train:\n",
    "    categories.append(selected_books[selected_books[\"Text#\"]==each][\"category\"].values[0])\n",
    "    titles.append(selected_books[selected_books[\"Text#\"]==each][\"Title\"].values[0])"
   ],
   "outputs": [
    {
     "output_type": "stream",
     "name": "stderr",
     "text": [
      "/Users/nitishdewan/downloads/ls/lib/python3.9/site-packages/IPython/core/interactiveshell.py:3457: DtypeWarning: Columns (8) have mixed types.Specify dtype option on import or set low_memory=False.\n",
      "  exec(code_obj, self.user_global_ns, self.user_ns)\n"
     ]
    }
   ],
   "metadata": {}
  },
  {
   "cell_type": "code",
   "execution_count": null,
   "source": [
    "# For testing\n",
    "'''\n",
    "number = 420\n",
    "print(list_of_words[number][:100])\n",
    "print(\">>>>>>>>>>>>>>>.\")\n",
    "print(book_names[number],categories[number],titles[number],category_list_train[number])\n",
    "'''"
   ],
   "outputs": [],
   "metadata": {}
  },
  {
   "cell_type": "code",
   "execution_count": null,
   "source": [
    "# Google Word2Vec book vectors\n",
    "gen = Generate_word2vec_features.Word2Vec_Features()\n",
    "gen.load_data(cache=True)\n",
    "train_vec =np.nan_to_num( gen.book_vectors)\n",
    "\n"
   ],
   "outputs": [],
   "metadata": {}
  },
  {
   "cell_type": "code",
   "execution_count": null,
   "source": [
    "# BoW\n",
    "# load the final vectors of size 1400*X (vary X ) into variable train_vec"
   ],
   "outputs": [],
   "metadata": {}
  },
  {
   "cell_type": "code",
   "execution_count": null,
   "source": [
    "# TF-IDF\n",
    "# load the final vectors of size 1400*X (vary X ) into variable train_vec\n",
    "VECTOR_PICKLE_LOC = \"../data/vectors\"\n",
    "combined_vector_1 = np.concatenate((CommonHelpers.load_pickle(os.path.join(VECTOR_PICKLE_LOC,\"TfIDF_1_gram_1.pickle\")), CommonHelpers.load_pickle(os.path.join(VECTOR_PICKLE_LOC,\"TfIDF_1_gram_2.pickle\"))), axis = 0)\n",
    "tfidf_1gram_combined = np.concatenate((combined_vector_1, CommonHelpers.load_pickle(os.path.join(VECTOR_PICKLE_LOC,\"TfIDF_1_gram_3.pickle\"))), axis = 0)\n",
    "tfidf_1gram_combined.shape"
   ],
   "outputs": [],
   "metadata": {}
  },
  {
   "cell_type": "code",
   "execution_count": null,
   "source": [
    "train_vec = tfidf_1gram_combined"
   ],
   "outputs": [],
   "metadata": {}
  },
  {
   "cell_type": "code",
   "execution_count": 6,
   "source": [
    "# Custom Word2Vec\n",
    "# load the final vectors of size 1400*X (vary X ) into variable train_vec\n",
    "\n",
    "gen = Generate_word2vec_features.Word2Vec_Features()\n",
    "gen.init_data()\n",
    "gen.load_data(cache=False)\n",
    "train_vec =np.nan_to_num(gen.book_vectors)\n"
   ],
   "outputs": [
    {
     "output_type": "stream",
     "name": "stdout",
     "text": [
      "Init data Started\n",
      "Init data completed\n",
      "Loading data\n",
      "1400 <class 'list'>\n"
     ]
    },
    {
     "output_type": "stream",
     "name": "stderr",
     "text": [
      "/var/folders/v1/xkw5ylbj38z8m09c8n_mzf880000gn/T/ipykernel_2936/2076003803.py:6: DtypeWarning: Columns (8) have mixed types.Specify dtype option on import or set low_memory=False.\n",
      "  gen.load_data(cache=False)\n"
     ]
    },
    {
     "output_type": "stream",
     "name": "stdout",
     "text": [
      "Loading data complete\n",
      "Saving to pickles done\n"
     ]
    }
   ],
   "metadata": {}
  },
  {
   "cell_type": "code",
   "execution_count": null,
   "source": [
    "split_obj = RunModels.Split_Data(train_vec,categories)\n",
    "split_obj.get_split()"
   ],
   "outputs": [],
   "metadata": {}
  },
  {
   "cell_type": "code",
   "execution_count": 7,
   "source": [
    "names = [\n",
    "    \"Nearest Neighbors\",\n",
    "    \"RBF SVM\",\n",
    "    \"Random Forest\",\n",
    "    \"Neural Net\",\n",
    "    \"Naive Bayes\",\n",
    "    \"Logistic Regression\",\n",
    "    \"Logistic Regression One-vs-Rest\",\n",
    "    \"LinearSVC One-vs-Rest\"\n",
    "]\n",
    "classifiers = [\n",
    "    KNeighborsClassifier(3),\n",
    "    SVC(gamma=2, C=1),\n",
    "    RandomForestClassifier(n_estimators=400),\n",
    "    MLPClassifier(alpha=0.05, max_iter=10000),\n",
    "    GaussianNB(),\n",
    "    LogisticRegression(multi_class='multinomial', random_state=0, max_iter=500),\n",
    "    LogisticRegression(multi_class='ovr', random_state=42, max_iter=500),\n",
    "    OneVsRestClassifier(SVC()),\n",
    "]"
   ],
   "outputs": [],
   "metadata": {}
  },
  {
   "cell_type": "code",
   "execution_count": 8,
   "source": [
    "for name, clf in zip(names, classifiers):\n",
    "    model = RunModels.Run_Model(clf,split_obj)\n",
    "    model.run_model()\n",
    "    result = model.get_predictions()\n",
    "    matrix,accuracy = model.get_metrics()\n",
    "    print(name,accuracy)"
   ],
   "outputs": [
    {
     "output_type": "stream",
     "name": "stdout",
     "text": [
      "Nearest Neighbors 0.4642857142857143\n",
      "RBF SVM 0.16785714285714284\n",
      "Random Forest 0.5964285714285714\n",
      "Neural Net 0.5964285714285714\n",
      "Naive Bayes 0.225\n",
      "Logistic Regression 0.5571428571428572\n",
      "Logistic Regression One-vs-Rest 0.5821428571428572\n",
      "LinearSVC One-vs-Rest 0.5928571428571429\n"
     ]
    }
   ],
   "metadata": {}
  },
  {
   "cell_type": "code",
   "execution_count": null,
   "source": [],
   "outputs": [],
   "metadata": {}
  }
 ],
 "metadata": {
  "interpreter": {
   "hash": "e3f678557ebf47878347fa9a6f9a07da5ceab10869ea353b8e2957e3132370f4"
  },
  "kernelspec": {
   "display_name": "Python 3.8.5 64-bit ('fall21': conda)",
   "name": "python3"
  },
  "language_info": {
   "codemirror_mode": {
    "name": "ipython",
    "version": 3
   },
   "file_extension": ".py",
   "mimetype": "text/x-python",
   "name": "python",
   "nbconvert_exporter": "python",
   "pygments_lexer": "ipython3",
   "version": "3.9.7"
  },
  "orig_nbformat": 4
 },
 "nbformat": 4,
 "nbformat_minor": 2
}