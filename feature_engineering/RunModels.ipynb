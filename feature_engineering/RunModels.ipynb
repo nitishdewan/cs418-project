{
 "cells": [
  {
   "cell_type": "code",
   "execution_count": 79,
   "source": [
    "from sklearn.ensemble import RandomForestClassifier,AdaBoostClassifier\n",
    "from sklearn.neighbors import KNeighborsClassifier\n",
    "from sklearn.neural_network import MLPClassifier\n",
    "from sklearn.svm import SVC\n",
    "from sklearn.tree import DecisionTreeClassifier\n",
    "from sklearn.gaussian_process import GaussianProcessClassifier\n",
    "from sklearn.gaussian_process.kernels import RBF\n",
    "from sklearn.naive_bayes import GaussianNB\n",
    "from sklearn.discriminant_analysis import QuadraticDiscriminantAnalysis\n",
    "import Generate_word2vec_features\n",
    "import os\n",
    "import sys\n",
    "import RunModels\n",
    "sys.path.append( os.path.join(\"..\"))\n",
    "from UtilityFunctions import CommonHelpers,PreprocessHelpers,FeatureEngineering\n",
    "import numpy as np\n",
    "import pandas as pd\n",
    "import re"
   ],
   "outputs": [],
   "metadata": {}
  },
  {
   "cell_type": "code",
   "execution_count": 11,
   "source": [
    "gen = Generate_word2vec_features.Word2Vec_Features()\n",
    "gen.load_pickles()\n",
    "train_vec =np.nan_to_num( gen.book_vectors)\n",
    "titles= gen.titles\n",
    "categories= gen.categories\n"
   ],
   "outputs": [],
   "metadata": {}
  },
  {
   "cell_type": "code",
   "execution_count": 32,
   "source": [
    "book_pickle_path=\"../data/preprocessed/books_english_preprocessed.pickle\"\n",
    "name_pickle_path = \"../data/preprocessed/names_english.pickle\""
   ],
   "outputs": [],
   "metadata": {}
  },
  {
   "cell_type": "code",
   "execution_count": 33,
   "source": [
    "list_of_words = CommonHelpers.load_pickle(book_pickle_path)\n",
    "book_names =  CommonHelpers.load_pickle(name_pickle_path)"
   ],
   "outputs": [],
   "metadata": {}
  },
  {
   "cell_type": "code",
   "execution_count": 36,
   "source": [
    "def get_number_id(file_name):\n",
    "    regex = r\"([a-z_A-Z]+)(\\d+)\"\n",
    "    match = re.search(regex, file_name)\n",
    "    if match!=None:\n",
    "        return match.group(2)"
   ],
   "outputs": [],
   "metadata": {}
  },
  {
   "cell_type": "code",
   "execution_count": 44,
   "source": [
    "df = pd.read_csv(\"../data/pg_catalog.csv\")\n",
    "df[\"category\"] = df[\"LoCC\"].str[:1]\n",
    "category_list_train = [int(get_number_id(each)) for each in book_names]\n",
    "df[df[\"Text#\"]==27943]"
   ],
   "outputs": [
    {
     "output_type": "stream",
     "name": "stderr",
     "text": [
      "/home/sharath/anaconda3/envs/fall21/lib/python3.8/site-packages/IPython/core/interactiveshell.py:3169: DtypeWarning: Columns (8) have mixed types.Specify dtype option on import or set low_memory=False.\n",
      "  has_raised = await self.run_ast_nodes(code_ast.body, cell_name,\n"
     ]
    },
    {
     "output_type": "execute_result",
     "data": {
      "text/plain": [
       "       Text#  Type      Issued                                      Title  \\\n",
       "27872  27943  Text  2009-01-31  The Home Medical Library, Volume 1 (of 6)   \n",
       "\n",
       "      Language                          Authors                     Subjects  \\\n",
       "27872       en  Winslow, Kenelm, 1863- [Editor]  Medicine; Medicine, Popular   \n",
       "\n",
       "      LoCC Bookshelves category  \n",
       "27872   RC         NaN        R  "
      ],
      "text/html": [
       "<div>\n",
       "<style scoped>\n",
       "    .dataframe tbody tr th:only-of-type {\n",
       "        vertical-align: middle;\n",
       "    }\n",
       "\n",
       "    .dataframe tbody tr th {\n",
       "        vertical-align: top;\n",
       "    }\n",
       "\n",
       "    .dataframe thead th {\n",
       "        text-align: right;\n",
       "    }\n",
       "</style>\n",
       "<table border=\"1\" class=\"dataframe\">\n",
       "  <thead>\n",
       "    <tr style=\"text-align: right;\">\n",
       "      <th></th>\n",
       "      <th>Text#</th>\n",
       "      <th>Type</th>\n",
       "      <th>Issued</th>\n",
       "      <th>Title</th>\n",
       "      <th>Language</th>\n",
       "      <th>Authors</th>\n",
       "      <th>Subjects</th>\n",
       "      <th>LoCC</th>\n",
       "      <th>Bookshelves</th>\n",
       "      <th>category</th>\n",
       "    </tr>\n",
       "  </thead>\n",
       "  <tbody>\n",
       "    <tr>\n",
       "      <th>27872</th>\n",
       "      <td>27943</td>\n",
       "      <td>Text</td>\n",
       "      <td>2009-01-31</td>\n",
       "      <td>The Home Medical Library, Volume 1 (of 6)</td>\n",
       "      <td>en</td>\n",
       "      <td>Winslow, Kenelm, 1863- [Editor]</td>\n",
       "      <td>Medicine; Medicine, Popular</td>\n",
       "      <td>RC</td>\n",
       "      <td>NaN</td>\n",
       "      <td>R</td>\n",
       "    </tr>\n",
       "  </tbody>\n",
       "</table>\n",
       "</div>"
      ]
     },
     "metadata": {},
     "execution_count": 44
    }
   ],
   "metadata": {}
  },
  {
   "cell_type": "code",
   "execution_count": 46,
   "source": [
    "selected_books = df[df[\"Text#\"].isin(category_list_train)]\n",
    "selected_books[selected_books[\"Text#\"]==27943]"
   ],
   "outputs": [
    {
     "output_type": "execute_result",
     "data": {
      "text/plain": [
       "       Text#  Type      Issued                                      Title  \\\n",
       "27872  27943  Text  2009-01-31  The Home Medical Library, Volume 1 (of 6)   \n",
       "\n",
       "      Language                          Authors                     Subjects  \\\n",
       "27872       en  Winslow, Kenelm, 1863- [Editor]  Medicine; Medicine, Popular   \n",
       "\n",
       "      LoCC Bookshelves category  \n",
       "27872   RC         NaN        R  "
      ],
      "text/html": [
       "<div>\n",
       "<style scoped>\n",
       "    .dataframe tbody tr th:only-of-type {\n",
       "        vertical-align: middle;\n",
       "    }\n",
       "\n",
       "    .dataframe tbody tr th {\n",
       "        vertical-align: top;\n",
       "    }\n",
       "\n",
       "    .dataframe thead th {\n",
       "        text-align: right;\n",
       "    }\n",
       "</style>\n",
       "<table border=\"1\" class=\"dataframe\">\n",
       "  <thead>\n",
       "    <tr style=\"text-align: right;\">\n",
       "      <th></th>\n",
       "      <th>Text#</th>\n",
       "      <th>Type</th>\n",
       "      <th>Issued</th>\n",
       "      <th>Title</th>\n",
       "      <th>Language</th>\n",
       "      <th>Authors</th>\n",
       "      <th>Subjects</th>\n",
       "      <th>LoCC</th>\n",
       "      <th>Bookshelves</th>\n",
       "      <th>category</th>\n",
       "    </tr>\n",
       "  </thead>\n",
       "  <tbody>\n",
       "    <tr>\n",
       "      <th>27872</th>\n",
       "      <td>27943</td>\n",
       "      <td>Text</td>\n",
       "      <td>2009-01-31</td>\n",
       "      <td>The Home Medical Library, Volume 1 (of 6)</td>\n",
       "      <td>en</td>\n",
       "      <td>Winslow, Kenelm, 1863- [Editor]</td>\n",
       "      <td>Medicine; Medicine, Popular</td>\n",
       "      <td>RC</td>\n",
       "      <td>NaN</td>\n",
       "      <td>R</td>\n",
       "    </tr>\n",
       "  </tbody>\n",
       "</table>\n",
       "</div>"
      ]
     },
     "metadata": {},
     "execution_count": 46
    }
   ],
   "metadata": {}
  },
  {
   "cell_type": "code",
   "execution_count": 55,
   "source": [
    "\n",
    "\n",
    "\n",
    "\n",
    "categories=[]\n",
    "titles=[]\n",
    "for each in category_list_train:\n",
    "    categories.append(selected_books[selected_books[\"Text#\"]==each][\"category\"].values[0])\n",
    "    titles.append(selected_books[selected_books[\"Text#\"]==each][\"Title\"].values[0])\n",
    "\n"
   ],
   "outputs": [],
   "metadata": {}
  },
  {
   "cell_type": "code",
   "execution_count": 47,
   "source": [
    "number = 420\n",
    "print(list_of_words[number][:100])\n",
    "print(\">>>>>>>>>>>>>>>.\")\n",
    "print(book_names[number],categories[number],titles[number],category_list_train[number])"
   ],
   "outputs": [
    {
     "output_type": "stream",
     "name": "stdout",
     "text": [
      "['home', 'medical', 'library', 'kenelm', 'winslow', 'formerly', 'assistant', 'professor', 'comparative', 'therapeutic', 'harvard', 'university', 'late', 'surgeon', 'newton', 'hospital', 'fellow', 'massachusetts', 'medical', 'society', 'etc', 'cooeperation', 'many', 'medical', 'advising', 'editor', 'special', 'contributor', 'six', 'volume', 'first', 'aid', 'family', 'medicine', 'nose', 'throat', 'lung', 'eye', 'ear', 'stomach', 'bowel', 'tumor', 'skin', 'disease', 'rheumatism', 'germ', 'disease', 'nervous', 'disease', 'insanity', 'sexual', 'hygiene', 'woman', 'child', 'heart', 'blood', 'digestion', 'personal', 'hygiene', 'indoor', 'exercise', 'diet', 'conduct', 'long', 'life', 'practical', 'kitchen', 'science', 'nervousness', 'outdoor', 'life', 'nurse', 'patient', 'camping', 'comfort', 'sanitation', 'household', 'pure', 'water', 'supply', 'pure', 'food', 'stable', 'kennel', 'new', 'york', 'review', 'review', 'company', 'medical', 'advising', 'editor', 'managing', 'editor', 'albert', 'warren', 'ferris', 'former', 'assistant', 'neurology']\n",
      ">>>>>>>>>>>>>>>.\n",
      "raw_book27943.pickle Q The Variation of Animals and Plants Under Domestication, Vol. I. 27943\n"
     ]
    }
   ],
   "metadata": {}
  },
  {
   "cell_type": "code",
   "execution_count": 57,
   "source": [
    "print(len(train_vec),len(set(categories)),categories[420])"
   ],
   "outputs": [
    {
     "output_type": "stream",
     "name": "stdout",
     "text": [
      "1400 21 R\n"
     ]
    }
   ],
   "metadata": {}
  },
  {
   "cell_type": "code",
   "execution_count": 58,
   "source": [
    "forest = RandomForestClassifier(n_estimators = 100)"
   ],
   "outputs": [],
   "metadata": {}
  },
  {
   "cell_type": "code",
   "execution_count": 59,
   "source": [
    "model = RunModels.Run_Model(forest,train_vec,categories)\n",
    "model.run_model()\n",
    "result = model.get_predictions()"
   ],
   "outputs": [],
   "metadata": {}
  },
  {
   "cell_type": "code",
   "execution_count": 61,
   "source": [
    "matrix,accuracy = model.get_metrics()"
   ],
   "outputs": [],
   "metadata": {}
  },
  {
   "cell_type": "code",
   "execution_count": 62,
   "source": [
    "accuracy"
   ],
   "outputs": [
    {
     "output_type": "execute_result",
     "data": {
      "text/plain": [
       "0.6678571428571428"
      ]
     },
     "metadata": {},
     "execution_count": 62
    }
   ],
   "metadata": {}
  },
  {
   "cell_type": "code",
   "execution_count": 100,
   "source": [
    "names = [\n",
    "    \"Nearest Neighbors\",\n",
    "    \"RBF SVM\",\n",
    "    # \"Gaussian Process\",\n",
    " \n",
    "\n",
    "    \"RF esti = 1000\",\n",
    "    \"RF max depth =15 \",\n",
    "    \"RF no max features\",\n",
    "    \"rf just estimators\",\n",
    "    \"Neural Net\",\n",
    "    \"Naive Bayes\",\n",
    "]\n",
    "classifiers = [\n",
    "    KNeighborsClassifier(3),\n",
    "    SVC(gamma=2, C=1),\n",
    "    # GaussianProcessClassifier(1.0 * RBF(1.0)),\n",
    "\n",
    "\n",
    "    RandomForestClassifier(max_depth=20, n_estimators=1000, max_features=1),\n",
    "    RandomForestClassifier(max_depth=15, n_estimators=400, max_features=1),\n",
    "    RandomForestClassifier(max_depth=15, n_estimators=400),\n",
    "    RandomForestClassifier( n_estimators=400),\n",
    "\n",
    "\n",
    "    MLPClassifier(alpha=0.05, max_iter=10000),\n",
    "    GaussianNB(),\n",
    "]"
   ],
   "outputs": [],
   "metadata": {}
  },
  {
   "cell_type": "code",
   "execution_count": 101,
   "source": [
    "for name, clf in zip(names, classifiers):\n",
    "    model = RunModels.Run_Model(clf,train_vec,categories)\n",
    "    model.run_model()\n",
    "    result = model.get_predictions()\n",
    "    matrix,accuracy = model.get_metrics()\n",
    "    print(name,accuracy)"
   ],
   "outputs": [
    {
     "output_type": "stream",
     "name": "stdout",
     "text": [
      "Nearest Neighbors 0.5678571428571428\n",
      "RBF SVM 0.6\n",
      "RF esti = 1000 0.6785714285714286\n",
      "RF max depth =15  0.65\n",
      "RF no max features 0.6607142857142857\n",
      "rf just estimators 0.7\n",
      "Neural Net 0.7\n",
      "Naive Bayes 0.5357142857142857\n"
     ]
    }
   ],
   "metadata": {}
  },
  {
   "cell_type": "code",
   "execution_count": 70,
   "source": [],
   "outputs": [],
   "metadata": {}
  },
  {
   "cell_type": "code",
   "execution_count": 71,
   "source": [
    "matrix,accuracy = model.get_metrics()"
   ],
   "outputs": [],
   "metadata": {}
  },
  {
   "cell_type": "code",
   "execution_count": 72,
   "source": [
    "accuracy"
   ],
   "outputs": [
    {
     "output_type": "execute_result",
     "data": {
      "text/plain": [
       "0.16428571428571428"
      ]
     },
     "metadata": {},
     "execution_count": 72
    }
   ],
   "metadata": {}
  },
  {
   "cell_type": "code",
   "execution_count": 29,
   "source": [],
   "outputs": [
    {
     "output_type": "error",
     "ename": "TypeError",
     "evalue": "predict_proba() missing 1 required positional argument: 'X'",
     "traceback": [
      "\u001b[0;31m---------------------------------------------------------------------------\u001b[0m",
      "\u001b[0;31mTypeError\u001b[0m                                 Traceback (most recent call last)",
      "\u001b[0;32m<ipython-input-29-5f0a7ac6bd54>\u001b[0m in \u001b[0;36m<module>\u001b[0;34m\u001b[0m\n\u001b[0;32m----> 1\u001b[0;31m \u001b[0mknn\u001b[0m\u001b[0;34m.\u001b[0m\u001b[0mpredict_proba\u001b[0m\u001b[0;34m(\u001b[0m\u001b[0;34m)\u001b[0m\u001b[0;34m\u001b[0m\u001b[0;34m\u001b[0m\u001b[0m\n\u001b[0m",
      "\u001b[0;31mTypeError\u001b[0m: predict_proba() missing 1 required positional argument: 'X'"
     ]
    }
   ],
   "metadata": {}
  },
  {
   "cell_type": "code",
   "execution_count": null,
   "source": [],
   "outputs": [],
   "metadata": {}
  }
 ],
 "metadata": {
  "orig_nbformat": 4,
  "language_info": {
   "name": "python",
   "version": "3.8.5",
   "mimetype": "text/x-python",
   "codemirror_mode": {
    "name": "ipython",
    "version": 3
   },
   "pygments_lexer": "ipython3",
   "nbconvert_exporter": "python",
   "file_extension": ".py"
  },
  "kernelspec": {
   "name": "python3",
   "display_name": "Python 3.8.5 64-bit ('fall21': conda)"
  },
  "interpreter": {
   "hash": "e3f678557ebf47878347fa9a6f9a07da5ceab10869ea353b8e2957e3132370f4"
  }
 },
 "nbformat": 4,
 "nbformat_minor": 2
}