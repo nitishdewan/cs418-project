{
 "cells": [
  {
   "cell_type": "code",
   "execution_count": 1,
   "source": [
    "from sklearn.ensemble import RandomForestClassifier,AdaBoostClassifier\n",
    "from sklearn.neighbors import KNeighborsClassifier\n",
    "from sklearn.neural_network import MLPClassifier\n",
    "from sklearn.svm import SVC\n",
    "from sklearn.gaussian_process.kernels import RBF\n",
    "from sklearn.naive_bayes import GaussianNB\n",
    "import Generate_word2vec_features\n",
    "import Generate_bow_features\n",
    "import Generate_tfidf_features\n",
    "from sklearn.datasets import make_classification\n",
    "from sklearn.linear_model import LogisticRegression\n",
    "from sklearn.metrics import accuracy_score\n",
    "from sklearn.model_selection import train_test_split\n",
    "from sklearn import preprocessing\n",
    "from sklearn.multiclass import OneVsRestClassifier\n",
    "from sklearn.svm import SVC\n",
    "import pandas as pd\n",
    "import gensim\n",
    "import os\n",
    "import sys\n",
    "import RunModels\n",
    "sys.path.append( os.path.join(\"..\"))\n",
    "from UtilityFunctions import CommonHelpers,PreprocessHelpers,FeatureEngineering\n",
    "import numpy as np\n",
    "import pandas as pd\n",
    "import re\n",
    "from sklearn.metrics import f1_score"
   ],
   "outputs": [
    {
     "output_type": "stream",
     "name": "stderr",
     "text": [
      "/home/sharath/anaconda3/envs/fall21/lib/python3.8/site-packages/gensim/similarities/__init__.py:15: UserWarning: The gensim.similarities.levenshtein submodule is disabled, because the optional Levenshtein package <https://pypi.org/project/python-Levenshtein/> is unavailable. Install Levenhstein (e.g. `pip install python-Levenshtein`) to suppress this warning.\n",
      "  warnings.warn(msg)\n",
      "[nltk_data] Downloading package stopwords to\n",
      "[nltk_data]     /home/sharath/nltk_data...\n",
      "[nltk_data]   Package stopwords is already up-to-date!\n",
      "[nltk_data] Downloading package wordnet to /home/sharath/nltk_data...\n",
      "[nltk_data]   Package wordnet is already up-to-date!\n",
      "[nltk_data] Downloading package punkt to /home/sharath/nltk_data...\n",
      "[nltk_data]   Package punkt is already up-to-date!\n",
      "[nltk_data] Downloading package averaged_perceptron_tagger to\n",
      "[nltk_data]     /home/sharath/nltk_data...\n",
      "[nltk_data]   Package averaged_perceptron_tagger is already up-to-\n",
      "[nltk_data]       date!\n"
     ]
    }
   ],
   "metadata": {}
  },
  {
   "cell_type": "code",
   "execution_count": 2,
   "source": [
    "# Constants\n",
    "book_pickle_path=\"../data/preprocessed/books_english.pickle\"\n",
    "name_pickle_path = \"../data/preprocessed/names_english.pickle\""
   ],
   "outputs": [],
   "metadata": {}
  },
  {
   "cell_type": "code",
   "execution_count": 3,
   "source": [
    "def get_number_id(file_name):\n",
    "    regex = r\"([a-z_A-Z]+)(\\d+)\"\n",
    "    match = re.search(regex, file_name)\n",
    "    if match!=None:\n",
    "        return match.group(2)"
   ],
   "outputs": [],
   "metadata": {}
  },
  {
   "cell_type": "code",
   "execution_count": 4,
   "source": [
    "\n",
    "book_names =  CommonHelpers.load_pickle(name_pickle_path)"
   ],
   "outputs": [],
   "metadata": {}
  },
  {
   "cell_type": "code",
   "execution_count": 6,
   "source": [
    "list_of_words = CommonHelpers.load_pickle(book_pickle_path)"
   ],
   "outputs": [],
   "metadata": {}
  },
  {
   "cell_type": "code",
   "execution_count": 5,
   "source": [
    "df = pd.read_csv(\"../data/samples_80_limit.csv\")\n",
    "df[\"category\"] = df[\"LoCC\"].str[:1]\n",
    "category_list_train = [int(get_number_id(each)) for each in book_names]\n",
    "selected_books = df[df[\"Text#\"].isin(category_list_train)]\n",
    "categories=[]\n",
    "titles=[]\n",
    "for each in category_list_train:\n",
    "    categories.append(selected_books[selected_books[\"Text#\"]==each][\"category\"].values[0])\n",
    "    titles.append(selected_books[selected_books[\"Text#\"]==each][\"Title\"].values[0])"
   ],
   "outputs": [],
   "metadata": {}
  },
  {
   "cell_type": "markdown",
   "source": [
    "# Different Word embeddings"
   ],
   "metadata": {}
  },
  {
   "cell_type": "markdown",
   "source": [
    "# BOW"
   ],
   "metadata": {}
  },
  {
   "cell_type": "code",
   "execution_count": 9,
   "source": [
    "# BoW\n",
    "# load the final vectors of size 1400*X (vary X ) into variable train_vec\n",
    "# BoW book vectors (full length)\n",
    "gen = Generate_bow_features.BoW_Vectors()\n",
    "gen.load_pickles()\n",
    "train_vec =gen.book_vectors"
   ],
   "outputs": [],
   "metadata": {}
  },
  {
   "cell_type": "code",
   "execution_count": 8,
   "source": [
    "# BoW book vectors (SVD reduced dimension)\n",
    "gen = Generate_bow_features.BoW_Vectors()\n",
    "gen.load_pickles('SVD')\n",
    "train_vec =gen.book_vectors"
   ],
   "outputs": [],
   "metadata": {}
  },
  {
   "cell_type": "markdown",
   "source": [
    "# TF-IDF"
   ],
   "metadata": {}
  },
  {
   "cell_type": "code",
   "execution_count": 6,
   "source": [
    "gen = Generate_tfidf_features.TFIDF_Vectors()\n",
    "gen.load_unigram_pickles('SVD')\n",
    "train_vec =gen.svd_unigram_tfidf_vectors"
   ],
   "outputs": [
    {
     "output_type": "stream",
     "name": "stdout",
     "text": [
      " __init__done\n",
      "unigrams vector loaded\n"
     ]
    }
   ],
   "metadata": {}
  },
  {
   "cell_type": "markdown",
   "source": [
    "# Google Word2Vec model"
   ],
   "metadata": {}
  },
  {
   "cell_type": "code",
   "execution_count": null,
   "source": [
    "# Google Word2Vec book vectors\n",
    "gen = Generate_word2vec_features.Word2Vec_Features()\n",
    "gen.load_data(cache=True)\n",
    "train_vec =np.nan_to_num( gen.book_vectors)\n",
    "\n"
   ],
   "outputs": [],
   "metadata": {}
  },
  {
   "cell_type": "markdown",
   "source": [
    "# Word2Vec model trained on LoCC books"
   ],
   "metadata": {}
  },
  {
   "cell_type": "code",
   "execution_count": null,
   "source": [
    "# Custom Word2Vec\n",
    "# load the final vectors of size 1400*X (vary X ) into variable train_vec\n",
    "\n",
    "gen = Generate_word2vec_features.Word2Vec_Features()\n",
    "\n",
    "gen.load_data(model_type=\"self\",cache=True)\n",
    "train_vec =np.nan_to_num(gen.book_vectors)\n"
   ],
   "outputs": [],
   "metadata": {}
  },
  {
   "cell_type": "markdown",
   "source": [
    "# Run below cells to train and test the models"
   ],
   "metadata": {}
  },
  {
   "cell_type": "code",
   "execution_count": 7,
   "source": [
    "split_obj = RunModels.Split_Data(train_vec,categories)\n",
    "split_obj.get_split()"
   ],
   "outputs": [],
   "metadata": {}
  },
  {
   "cell_type": "code",
   "execution_count": null,
   "source": [
    "names = [\n",
    "    \"Nearest Neighbors\",\n",
    "    \"RBF SVM\",\n",
    "    \"Random Forest\",\n",
    "    \"Naive Bayes\",\n",
    "    \"Logistic Regression\",\n",
    "    \"Logistic Regression One-vs-Rest\",\n",
    "    \"LinearSVC One-vs-Rest\",\n",
    "    \"Neural Net\"\n",
    "]\n",
    "classifiers = [\n",
    "    KNeighborsClassifier(3),\n",
    "    SVC(kernel='rbf', gamma=1, C=1, decision_function_shape='ovo'),\n",
    "    RandomForestClassifier(n_estimators=400),\n",
    "    GaussianNB(),\n",
    "    LogisticRegression(multi_class='multinomial', random_state=0),\n",
    "    LogisticRegression(multi_class='ovr', random_state=42, max_iter=500),\n",
    "    OneVsRestClassifier(SVC()),\n",
    "    MLPClassifier(alpha=0.05, max_iter=10000),\n",
    "]"
   ],
   "outputs": [],
   "metadata": {}
  },
  {
   "cell_type": "code",
   "execution_count": null,
   "source": [
    "accuracy_dict={}\n",
    "f1_dict={}"
   ],
   "outputs": [],
   "metadata": {}
  },
  {
   "cell_type": "code",
   "execution_count": null,
   "source": [
    "for name, clf in zip(names, classifiers):\n",
    "    model = RunModels.Run_Model(clf,split_obj)\n",
    "    model.run_model()\n",
    "    result = model.get_predictions()\n",
    "    metrics = model.get_metrics()\n",
    "    accuracy_dict[name]=metrics[1]\n",
    "    f1_dict[name]=metrics[2]\n",
    "    print(f\"{name}: Accuracy = {metrics[1]}, f1 score= {metrics[2]}\")"
   ],
   "outputs": [],
   "metadata": {}
  },
  {
   "cell_type": "code",
   "execution_count": null,
   "source": [
    "for key in accuracy_dict:\n",
    "    print(key,\",\",accuracy_dict[key],\",\",f1_dict[key])"
   ],
   "outputs": [],
   "metadata": {}
  },
  {
   "cell_type": "code",
   "execution_count": null,
   "source": [
    "f1_df"
   ],
   "outputs": [],
   "metadata": {}
  },
  {
   "cell_type": "code",
   "execution_count": null,
   "source": [
    "import seaborn as sns\n",
    "cf_matrix = metrics[0]\n",
    "categories1 = set(categories)\n",
    "group_names = ['True Neg','False Pos', 'False Neg','True Pos']\n",
    "group_percentages = ['{0:.2%}'.format(value) for value in cf_matrix.flatten() / np.sum(cf_matrix)]\n",
    "labels = [f'{v1}n{v2}' for v1, v2 in zip(group_names,group_percentages)]\n",
    "labels = np.asarray(labels).reshape(2,2)\n",
    "sns.heatmap(cf_matrix, annot = True, cmap = 'Blues',fmt = ''\n",
    ",xticklabels = categories1, yticklabels = categories1)"
   ],
   "outputs": [],
   "metadata": {}
  },
  {
   "cell_type": "code",
   "execution_count": null,
   "source": [
    "set(categories)"
   ],
   "outputs": [],
   "metadata": {}
  },
  {
   "cell_type": "code",
   "execution_count": null,
   "source": [],
   "outputs": [],
   "metadata": {}
  }
 ],
 "metadata": {
  "interpreter": {
   "hash": "e3f678557ebf47878347fa9a6f9a07da5ceab10869ea353b8e2957e3132370f4"
  },
  "kernelspec": {
   "name": "python3",
   "display_name": "Python 3.8.5 64-bit ('fall21': conda)"
  },
  "language_info": {
   "codemirror_mode": {
    "name": "ipython",
    "version": 3
   },
   "file_extension": ".py",
   "mimetype": "text/x-python",
   "name": "python",
   "nbconvert_exporter": "python",
   "pygments_lexer": "ipython3",
   "version": "3.8.5"
  },
  "orig_nbformat": 4
 },
 "nbformat": 4,
 "nbformat_minor": 2
}