{
 "cells": [
  {
   "cell_type": "code",
   "execution_count": 1,
   "source": [
    "import sys,os\n",
    "import pandas as pd\n",
    "sys.path.append( os.path.join(\"..\",\"..\"))\n",
    "from UtilityFunctions import CommonHelpers\n",
    "import gutenbergpy.textget\n",
    "from gutenbergpy.gutenbergcache import GutenbergCache\n"
   ],
   "outputs": [],
   "metadata": {}
  },
  {
   "cell_type": "code",
   "execution_count": null,
   "source": [
    "## Run only once per system. Takes about 30 min on i7 7th gen 16gb and ssd with about 40 mbps network\n",
    "#GutenbergCache.create(refresh=True, download=True, unpack=True, parse=True, cache=True, deleteTemp=True)"
   ],
   "outputs": [],
   "metadata": {}
  },
  {
   "cell_type": "code",
   "execution_count": 2,
   "source": [
    "cache = GutenbergCache.get_cache()\n"
   ],
   "outputs": [],
   "metadata": {}
  },
  {
   "cell_type": "code",
   "execution_count": 3,
   "source": [
    "df = pd.read_csv(\"../../data/samples_80_limit.csv\")\n",
    "df = df.loc[:,[\"Text#\",\"Title\",\"LoCC\"]]"
   ],
   "outputs": [],
   "metadata": {}
  },
  {
   "cell_type": "code",
   "execution_count": 4,
   "source": [
    "book_ids = df.iloc[:,0].tolist()"
   ],
   "outputs": [],
   "metadata": {}
  },
  {
   "cell_type": "code",
   "execution_count": 7,
   "source": [
    "# CONFIG VARIABLES\n",
    "NUMBER_OF_BOOKS=len(book_ids)\n",
    "RAW_STORAGE_PATH = os.path.join(\"..\",\"raw_books\")"
   ],
   "outputs": [],
   "metadata": {}
  },
  {
   "cell_type": "code",
   "execution_count": 5,
   "source": [
    "len(book_ids)"
   ],
   "outputs": [
    {
     "output_type": "execute_result",
     "data": {
      "text/plain": [
       "1533"
      ]
     },
     "metadata": {},
     "execution_count": 5
    }
   ],
   "metadata": {}
  },
  {
   "cell_type": "code",
   "execution_count": 8,
   "source": [
    "for each in book_ids:\n",
    "    try:\n",
    "        book=gutenbergpy.textget.strip_headers(gutenbergpy.textget.get_text_by_id(each)).decode('utf-8')\n",
    "        CommonHelpers.dump_pickle(os.path.join(RAW_STORAGE_PATH,\"raw_book\"+str(each)+\".pickle\"),book)\n",
    "    except Exception as e:\n",
    "        print(\"Book download failed for \",each,\" book with error\",e)"
   ],
   "outputs": [
    {
     "output_type": "stream",
     "name": "stdout",
     "text": [
      "Book download failed for  36530  book with error 'charmap' codec can't decode byte 0x8f in position 384242: character maps to <undefined>\n",
      "Book download failed for  46641  book with error 'charmap' codec can't decode byte 0x9d in position 21605: character maps to <undefined>\n",
      "Book download failed for  20976  book with error exceptions must derive from BaseException\n",
      "Book download failed for  28762  book with error exceptions must derive from BaseException\n",
      "Book download failed for  26460  book with error exceptions must derive from BaseException\n",
      "Book download failed for  17224  book with error exceptions must derive from BaseException\n",
      "Book download failed for  12962  book with error exceptions must derive from BaseException\n",
      "Book download failed for  23088  book with error exceptions must derive from BaseException\n",
      "Book download failed for  26251  book with error exceptions must derive from BaseException\n",
      "Book download failed for  26253  book with error exceptions must derive from BaseException\n",
      "Book download failed for  10155  book with error exceptions must derive from BaseException\n",
      "Book download failed for  89  book with error exceptions must derive from BaseException\n",
      "Book download failed for  10169  book with error exceptions must derive from BaseException\n",
      "Book download failed for  10295  book with error exceptions must derive from BaseException\n",
      "Book download failed for  10307  book with error exceptions must derive from BaseException\n",
      "Book download failed for  10198  book with error exceptions must derive from BaseException\n",
      "Book download failed for  10299  book with error exceptions must derive from BaseException\n",
      "Book download failed for  10240  book with error exceptions must derive from BaseException\n",
      "Book download failed for  10407  book with error exceptions must derive from BaseException\n",
      "Book download failed for  11002  book with error exceptions must derive from BaseException\n",
      "Book download failed for  10249  book with error exceptions must derive from BaseException\n",
      "Book download failed for  10178  book with error exceptions must derive from BaseException\n",
      "Book download failed for  10296  book with error exceptions must derive from BaseException\n",
      "Book download failed for  10176  book with error exceptions must derive from BaseException\n",
      "Book download failed for  10313  book with error exceptions must derive from BaseException\n",
      "Book download failed for  13153  book with error exceptions must derive from BaseException\n",
      "Book download failed for  12149  book with error exceptions must derive from BaseException\n",
      "Book download failed for  10260  book with error exceptions must derive from BaseException\n",
      "Book download failed for  6546  book with error exceptions must derive from BaseException\n",
      "Book download failed for  10167  book with error exceptions must derive from BaseException\n",
      "Book download failed for  10312  book with error exceptions must derive from BaseException\n",
      "Book download failed for  28839  book with error exceptions must derive from BaseException\n",
      "Book download failed for  26471  book with error exceptions must derive from BaseException\n",
      "Book download failed for  12706  book with error exceptions must derive from BaseException\n",
      "Book download failed for  11790  book with error exceptions must derive from BaseException\n",
      "Book download failed for  2224  book with error exceptions must derive from BaseException\n",
      "Book download failed for  38003  book with error 'charmap' codec can't decode byte 0x8d in position 78509: character maps to <undefined>\n",
      "Book download failed for  9934  book with error exceptions must derive from BaseException\n",
      "Book download failed for  26839  book with error exceptions must derive from BaseException\n",
      "Book download failed for  36640  book with error exceptions must derive from BaseException\n",
      "Book download failed for  40  book with error exceptions must derive from BaseException\n",
      "Book download failed for  10209  book with error exceptions must derive from BaseException\n",
      "Book download failed for  10205  book with error exceptions must derive from BaseException\n",
      "Book download failed for  26578  book with error exceptions must derive from BaseException\n",
      "Book download failed for  23904  book with error exceptions must derive from BaseException\n"
     ]
    }
   ],
   "metadata": {}
  },
  {
   "cell_type": "code",
   "execution_count": null,
   "source": [],
   "outputs": [],
   "metadata": {}
  }
 ],
 "metadata": {
  "orig_nbformat": 4,
  "language_info": {
   "name": "python",
   "version": "3.8.5",
   "mimetype": "text/x-python",
   "codemirror_mode": {
    "name": "ipython",
    "version": 3
   },
   "pygments_lexer": "ipython3",
   "nbconvert_exporter": "python",
   "file_extension": ".py"
  },
  "kernelspec": {
   "name": "python3",
   "display_name": "Python 3.8.5 64-bit ('fall21': conda)"
  },
  "interpreter": {
   "hash": "e3f678557ebf47878347fa9a6f9a07da5ceab10869ea353b8e2957e3132370f4"
  }
 },
 "nbformat": 4,
 "nbformat_minor": 2
}