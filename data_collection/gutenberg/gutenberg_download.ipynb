{
 "cells": [
  {
   "cell_type": "code",
   "execution_count": 1,
   "source": [
    "import sys,os\n",
    "sys.path.append( os.path.join(\"..\",\"..\"))\n",
    "from UtilityFunctions import CommonHelpers\n",
    "import gutenbergpy.textget\n",
    "from gutenbergpy.gutenbergcache import GutenbergCache\n"
   ],
   "outputs": [],
   "metadata": {}
  },
  {
   "cell_type": "code",
   "execution_count": null,
   "source": [
    "## Run only once per system. Takes about 30 min on i7 7th gen 16gb and ssd with about 40 mbps network\n",
    "#GutenbergCache.create(refresh=True, download=True, unpack=True, parse=True, cache=True, deleteTemp=True)"
   ],
   "outputs": [],
   "metadata": {}
  },
  {
   "cell_type": "code",
   "execution_count": 2,
   "source": [
    "cache = GutenbergCache.get_cache()\n"
   ],
   "outputs": [],
   "metadata": {}
  },
  {
   "cell_type": "code",
   "execution_count": 3,
   "source": [
    "# CONFIG VARIABLES\n",
    "NUMBER_OF_BOOKS=100\n",
    "RAW_STORAGE_PATH = os.path.join(\"..\",\"raw_books\")"
   ],
   "outputs": [],
   "metadata": {}
  },
  {
   "cell_type": "code",
   "execution_count": 5,
   "source": [
    "for i in range(NUMBER_OF_BOOKS):\n",
    "    try:\n",
    "        book=gutenbergpy.textget.strip_headers(gutenbergpy.textget.get_text_by_id(i+1)).decode('utf-8')\n",
    "        CommonHelpers.dump_pickle(os.path.join(RAW_STORAGE_PATH,\"raw_book\"+str(i+1)+\".pickle\"),book)\n",
    "    except Exception as e:\n",
    "        print(\"Book download failed for \",i,\" book with error\",e)"
   ],
   "outputs": [
    {
     "output_type": "stream",
     "name": "stdout",
     "text": [
      "Book download failed for  39  book with error exceptions must derive from BaseException\n",
      "Book download failed for  78  book with error decode() argument 'encoding' must be str, not None\n",
      "Book download failed for  79  book with error decode() argument 'encoding' must be str, not None\n",
      "Book download failed for  88  book with error exceptions must derive from BaseException\n"
     ]
    }
   ],
   "metadata": {}
  },
  {
   "cell_type": "code",
   "execution_count": null,
   "source": [],
   "outputs": [],
   "metadata": {}
  }
 ],
 "metadata": {
  "orig_nbformat": 4,
  "language_info": {
   "name": "python",
   "version": "3.8.5",
   "mimetype": "text/x-python",
   "codemirror_mode": {
    "name": "ipython",
    "version": 3
   },
   "pygments_lexer": "ipython3",
   "nbconvert_exporter": "python",
   "file_extension": ".py"
  },
  "kernelspec": {
   "name": "python3",
   "display_name": "Python 3.8.5 64-bit ('fall21': conda)"
  },
  "interpreter": {
   "hash": "e3f678557ebf47878347fa9a6f9a07da5ceab10869ea353b8e2957e3132370f4"
  }
 },
 "nbformat": 4,
 "nbformat_minor": 2
}