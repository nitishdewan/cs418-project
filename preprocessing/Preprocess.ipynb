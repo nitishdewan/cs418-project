{
 "cells": [
  {
   "cell_type": "code",
   "execution_count": 1,
   "source": [
    "import sys,os\n",
    "sys.path.append( os.path.join(\"..\"))\n",
    "from UtilityFunctions import CommonHelpers, PreprocessHelpers"
   ],
   "outputs": [
    {
     "output_type": "stream",
     "name": "stderr",
     "text": [
      "[nltk_data] Downloading package stopwords to\n",
      "[nltk_data]     /home/sharath/nltk_data...\n",
      "[nltk_data]   Package stopwords is already up-to-date!\n",
      "[nltk_data] Downloading package wordnet to /home/sharath/nltk_data...\n",
      "[nltk_data]   Package wordnet is already up-to-date!\n",
      "[nltk_data] Downloading package punkt to /home/sharath/nltk_data...\n",
      "[nltk_data]   Package punkt is already up-to-date!\n",
      "[nltk_data] Downloading package averaged_perceptron_tagger to\n",
      "[nltk_data]     /home/sharath/nltk_data...\n",
      "[nltk_data]   Package averaged_perceptron_tagger is already up-to-\n",
      "[nltk_data]       date!\n"
     ]
    }
   ],
   "metadata": {}
  },
  {
   "cell_type": "code",
   "execution_count": 2,
   "source": [
    "RAW_BOOK_FOLDER = os.path.join(\"..\",\"data_collection\",\"raw_books\")\n",
    "PREPROCESSED_STORE_LOC = os.path.join(\"..\",\"data\",\"preprocessed\")\n",
    "aggragate_pickle_name = \"books_1635_preprocessed.pickle\"\n",
    "name_pickle_name = \"names_1635.pickle\""
   ],
   "outputs": [],
   "metadata": {}
  },
  {
   "cell_type": "code",
   "execution_count": 5,
   "source": [
    "file_list=os.listdir(RAW_BOOK_FOLDER)\n",
    "len(file_list)"
   ],
   "outputs": [
    {
     "output_type": "execute_result",
     "data": {
      "text/plain": [
       "1635"
      ]
     },
     "metadata": {},
     "execution_count": 5
    }
   ],
   "metadata": {}
  },
  {
   "cell_type": "code",
   "execution_count": 4,
   "source": [
    "books=[]\n",
    "book_names=[]\n",
    "file_list = os.listdir(RAW_BOOK_FOLDER)\n",
    "start=0\n",
    "cnt=0\n",
    "CommonHelpers.dump_pickle(os.path.join(PREPROCESSED_STORE_LOC,aggragate_pickle_name),books)\n",
    "CommonHelpers.dump_pickle(os.path.join(PREPROCESSED_STORE_LOC,name_pickle_name),book_names)\n",
    "for i in range(200,len(file_list),200):\n",
    "    books = CommonHelpers.load_pickle(os.path.join(PREPROCESSED_STORE_LOC,aggragate_pickle_name))\n",
    "    names = CommonHelpers.load_pickle(os.path.join(PREPROCESSED_STORE_LOC,name_pickle_name))\n",
    "    for file_name in file_list[start:i]:\n",
    "        cnt+=1\n",
    "        full_text= CommonHelpers.load_pickle(os.path.abspath(os.path.join(RAW_BOOK_FOLDER, file_name)))\n",
    "        preprocessor = PreprocessHelpers.Preprocessor()    \n",
    "        preprocessor.set_text(full_text)\n",
    "        words = preprocessor.run_basic_pipeline(True)\n",
    "        print(file_name, len(words))\n",
    "        books.append(words)\n",
    "        book_names.append(file_name)\n",
    "        if cnt%20==0:\n",
    "            print(cnt)\n",
    "    CommonHelpers.dump_pickle(os.path.join(PREPROCESSED_STORE_LOC,aggragate_pickle_name),books)\n",
    "    CommonHelpers.dump_pickle(os.path.join(PREPROCESSED_STORE_LOC,name_pickle_name),book_names)\n",
    "    print(\"Checkpoint \",i)\n",
    "    start=i"
   ],
   "outputs": [
    {
     "output_type": "stream",
     "name": "stdout",
     "text": [
      "raw_book38.pickle 101765\n",
      "raw_book96.pickle 28151\n",
      "raw_book32.pickle 24980\n",
      "raw_book60.pickle 43183\n",
      "raw_book17.pickle 120029\n",
      "raw_book6.pickle 567\n",
      "raw_book4.pickle 170\n",
      "raw_book28.pickle 6964\n",
      "raw_book52.pickle 105\n",
      "raw_book50.pickle 160\n",
      "raw_book85.pickle 31056\n",
      "raw_book58.pickle 8781\n",
      "raw_book98.pickle 64354\n",
      "raw_book65.pickle 4\n",
      "raw_book2.pickle 281\n",
      "raw_book75.pickle 11300\n",
      "raw_book64.pickle 40130\n",
      "raw_book39.pickle 4196\n",
      "raw_book74.pickle 35024\n",
      "raw_book86.pickle 54860\n",
      "raw_book27.pickle 67401\n",
      "raw_book5.pickle 2454\n",
      "raw_book23.pickle 19293\n",
      "raw_book87.pickle 254802\n",
      "raw_book78.pickle 42887\n",
      "raw_book37.pickle 11430\n",
      "raw_book72.pickle 24010\n",
      "raw_book9.pickle 1649\n",
      "raw_book67.pickle 41955\n",
      "raw_book83.pickle 46561\n",
      "raw_book69.pickle 41\n",
      "raw_book73.pickle 23434\n",
      "raw_book49.pickle 5896\n",
      "raw_book45.pickle 49929\n",
      "raw_book95.pickle 25019\n",
      "raw_book41.pickle 6231\n",
      "raw_book15.pickle 111146\n",
      "raw_book26.pickle 45840\n",
      "raw_book71.pickle 4008\n",
      "raw_book8.pickle 373\n",
      "raw_book93.pickle 10395\n",
      "raw_book44.pickle 73378\n",
      "raw_book62.pickle 32391\n",
      "raw_book99.pickle 3969\n",
      "raw_book46.pickle 13838\n",
      "raw_book7.pickle 233\n",
      "raw_book10.pickle 374966\n",
      "raw_book34.pickle 14938\n",
      "raw_book12.pickle 14109\n",
      "raw_book70.pickle 44498\n",
      "raw_book59.pickle 9668\n",
      "raw_book90.pickle 45973\n",
      "raw_book77.pickle 52629\n",
      "raw_book25.pickle 208705\n",
      "raw_book47.pickle 43801\n",
      "raw_book97.pickle 15892\n",
      "raw_book29.pickle 10978\n",
      "raw_book33.pickle 42029\n",
      "raw_book61.pickle 5873\n",
      "raw_book51.pickle 38624\n",
      "raw_book18.pickle 90825\n",
      "raw_book84.pickle 34638\n",
      "raw_book42.pickle 11963\n",
      "raw_book54.pickle 21344\n",
      "raw_book94.pickle 13458\n",
      "raw_book55.pickle 18292\n",
      "raw_book22.pickle 170098\n",
      "raw_book21.pickle 19023\n",
      "raw_book30.pickle 374794\n",
      "raw_book16.pickle 21886\n",
      "raw_book20.pickle 47501\n",
      "raw_book31.pickle 21223\n",
      "raw_book53.pickle 35872\n",
      "raw_book56.pickle 2415\n",
      "raw_book81.pickle 42983\n",
      "raw_book91.pickle 15148\n",
      "raw_book76.pickle 50821\n",
      "raw_book24.pickle 26541\n",
      "raw_book11.pickle 12304\n",
      "raw_book66.pickle 16680\n",
      "raw_book100.pickle 512115\n",
      "raw_book35.pickle 15603\n",
      "raw_book88.pickle 3629\n",
      "raw_book63.pickle 46\n",
      "raw_book43.pickle 11955\n",
      "raw_book19.pickle 17955\n",
      "raw_book3.pickle 709\n",
      "raw_book1.pickle 3301\n",
      "raw_book92.pickle 33271\n",
      "raw_book68.pickle 27914\n",
      "raw_book57.pickle 2479\n",
      "raw_book82.pickle 98635\n",
      "raw_book14.pickle 190945\n",
      "raw_book36.pickle 29851\n",
      "raw_book13.pickle 2558\n",
      "raw_book48.pickle 231112\n"
     ]
    }
   ],
   "metadata": {}
  },
  {
   "cell_type": "code",
   "execution_count": 26,
   "source": [
    "all_books = CommonHelpers.load_pickle(os.path.join(PREPROCESSED_STORE_LOC,aggragate_pickle_name))"
   ],
   "outputs": [],
   "metadata": {}
  },
  {
   "cell_type": "code",
   "execution_count": 32,
   "source": [
    "len(all_books[7])"
   ],
   "outputs": [
    {
     "output_type": "execute_result",
     "data": {
      "text/plain": [
       "531702"
      ]
     },
     "metadata": {},
     "execution_count": 32
    }
   ],
   "metadata": {}
  },
  {
   "cell_type": "code",
   "execution_count": 3,
   "source": [
    "file_name = \"raw_book66028.pickle\""
   ],
   "outputs": [],
   "metadata": {}
  },
  {
   "cell_type": "code",
   "execution_count": 4,
   "source": [
    "full_text= CommonHelpers.load_pickle(os.path.abspath(os.path.join(RAW_BOOK_FOLDER, file_name)))\n",
    "preprocessor = PreprocessHelpers.Preprocessor()    \n",
    "preprocessor.set_text(full_text)\n",
    "words = preprocessor.run_lemma_pipeline(True)\n",
    "print(file_name, len(words))"
   ],
   "outputs": [
    {
     "output_type": "stream",
     "name": "stdout",
     "text": [
      "raw_book66028.pickle 114980\n"
     ]
    }
   ],
   "metadata": {}
  },
  {
   "cell_type": "code",
   "execution_count": 7,
   "source": [
    "words[400:500]"
   ],
   "outputs": [
    {
     "output_type": "execute_result",
     "data": {
      "text/plain": [
       "['case',\n",
       " 'permission',\n",
       " 'tribunal',\n",
       " 'call',\n",
       " 'defendant',\n",
       " 'dr',\n",
       " 'han',\n",
       " 'frank',\n",
       " 'witness',\n",
       " 'stand',\n",
       " 'defendant',\n",
       " 'frank',\n",
       " 'took',\n",
       " 'stand',\n",
       " 'president',\n",
       " 'give',\n",
       " 'full',\n",
       " 'name',\n",
       " 'han',\n",
       " 'frank',\n",
       " 'defendant',\n",
       " 'han',\n",
       " 'frank',\n",
       " 'president',\n",
       " 'repeat',\n",
       " 'oath',\n",
       " 'swear',\n",
       " 'god',\n",
       " 'almighty',\n",
       " 'omniscient',\n",
       " 'speak',\n",
       " 'pure',\n",
       " 'truth',\n",
       " 'withhold',\n",
       " 'add',\n",
       " 'nothing',\n",
       " 'witness',\n",
       " 'repeated',\n",
       " 'oath',\n",
       " 'president',\n",
       " 'sit',\n",
       " 'please',\n",
       " 'dr',\n",
       " 'seidl',\n",
       " 'witness',\n",
       " 'born',\n",
       " 'frank',\n",
       " 'born',\n",
       " 'may',\n",
       " 'karlsruhe',\n",
       " 'baden',\n",
       " 'dr',\n",
       " 'seidl',\n",
       " 'please',\n",
       " 'give',\n",
       " 'tribunal',\n",
       " 'brief',\n",
       " 'outline',\n",
       " 'education',\n",
       " 'frank',\n",
       " 'finished',\n",
       " 'study',\n",
       " 'gymnasium',\n",
       " 'passed',\n",
       " 'final',\n",
       " 'state',\n",
       " 'law',\n",
       " 'examination',\n",
       " 'completed',\n",
       " 'legal',\n",
       " 'training',\n",
       " 'dr',\n",
       " 'seidl',\n",
       " 'profession',\n",
       " 'follow',\n",
       " 'frank',\n",
       " 'several',\n",
       " 'legal',\n",
       " 'post',\n",
       " 'worked',\n",
       " 'lawyer',\n",
       " 'member',\n",
       " 'teaching',\n",
       " 'staff',\n",
       " 'technical',\n",
       " 'college',\n",
       " 'worked',\n",
       " 'principally',\n",
       " 'legal',\n",
       " 'adviser',\n",
       " 'adolf',\n",
       " 'hitler',\n",
       " 'national',\n",
       " 'socialist',\n",
       " 'german',\n",
       " 'worker',\n",
       " 'party',\n",
       " 'dr',\n",
       " 'seidl',\n",
       " 'since']"
      ]
     },
     "metadata": {},
     "execution_count": 7
    }
   ],
   "metadata": {}
  },
  {
   "cell_type": "code",
   "execution_count": null,
   "source": [],
   "outputs": [],
   "metadata": {}
  }
 ],
 "metadata": {
  "interpreter": {
   "hash": "e3f678557ebf47878347fa9a6f9a07da5ceab10869ea353b8e2957e3132370f4"
  },
  "kernelspec": {
   "name": "python3",
   "display_name": "Python 3.8.5 64-bit ('fall21': conda)"
  },
  "language_info": {
   "codemirror_mode": {
    "name": "ipython",
    "version": 3
   },
   "file_extension": ".py",
   "mimetype": "text/x-python",
   "name": "python",
   "nbconvert_exporter": "python",
   "pygments_lexer": "ipython3",
   "version": "3.8.5"
  }
 },
 "nbformat": 4,
 "nbformat_minor": 2
}